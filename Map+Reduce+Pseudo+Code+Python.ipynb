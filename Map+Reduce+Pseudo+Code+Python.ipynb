{
 "cells": [
  {
   "cell_type": "markdown",
   "metadata": {},
   "source": [
    "# Map Reduce Pseudo Code Python"
   ]
  },
  {
   "cell_type": "markdown",
   "metadata": {},
   "source": [
    "### the goal of our algorithm is to compute the transpose of a matrix \n"
   ]
  },
  {
   "cell_type": "code",
   "execution_count": null,
   "metadata": {},
   "outputs": [],
   "source": [
    "# here we have our map function that take as argumetns the row Index and it's values\n",
    "# let take the exmple of this matrix \n",
    "# [0,2,3]\n",
    "# [8,4,3]\n",
    "# [4,5,1]\n",
    "# For the first row , the map function will take (0,[0,2,3]) as arguments and it will return {0:{0,0}},  {1:{0,2}},  {2:{0,3}}\n",
    "# For the second row , the map function will take (2,[8,4,3]) as arguments and it will return {0:{1,8}},  {1:{1,4}},  {2:{1,3}}\n",
    "def maper(IndexOfRow,values) :\n",
    "    for IndexOfColumn in range(0,length(values)) :\n",
    "        K = IndexOfColumn\n",
    "        V = {IndexOfRow: values[IndexOfColumn]}\n",
    "    return {K:V}\n",
    "\n",
    "# the shuffle phase will take the map results and produce sorted the values together  according to the key \n",
    "#{0:   [{0,0},  {1,8},  {2,4}]}\n",
    "#{1:   [{0,2},  {1,4},  {2,5}]}\n",
    "#{2:   [{0,3},  {1,3},  {2,1}]}\n",
    "\n",
    "\n",
    "# the reduce phase will take the shuffle results and produce the final result\n",
    "def reduce(M,Val[]) :\n",
    "    ValuesForTranspose = []\n",
    "    for v in Val[] :\n",
    "        ValuesForTranspose[v.key] = v.value\n",
    "    RowIndexTranspose = M\n",
    "    return {RowIndexTranspose: ValuesForTranspose}\n",
    "\n",
    "#{0:[0,8,4]}\n",
    "#{1:[2,4,5]}\n",
    "#{2:[3,3,1]}"
   ]
  }
 ],
 "metadata": {
  "kernelspec": {
   "display_name": "Python 3",
   "language": "python",
   "name": "python3"
  },
  "language_info": {
   "codemirror_mode": {
    "name": "ipython",
    "version": 3
   },
   "file_extension": ".py",
   "mimetype": "text/x-python",
   "name": "python",
   "nbconvert_exporter": "python",
   "pygments_lexer": "ipython3",
   "version": "3.5.0"
  }
 },
 "nbformat": 4,
 "nbformat_minor": 2
}
